{
  "nbformat": 4,
  "nbformat_minor": 0,
  "metadata": {
    "colab": {
      "name": "CHESS: Predict Win Depth.ipynb",
      "provenance": []
    },
    "kernelspec": {
      "name": "python3",
      "display_name": "Python 3"
    }
  },
  "cells": [
    {
      "cell_type": "code",
      "metadata": {
        "id": "rRGNtncIBh_3",
        "colab_type": "code",
        "colab": {
          "base_uri": "https://localhost:8080/",
          "height": 70
        },
        "outputId": "b76f0244-1975-43d8-9a8d-748f3b39ac5f"
      },
      "source": [
        "import pandas as pd\n",
        "import numpy as np\n",
        "import seaborn as sns\n",
        "import matplotlib.pyplot as plt"
      ],
      "execution_count": null,
      "outputs": [
        {
          "output_type": "stream",
          "text": [
            "/usr/local/lib/python3.6/dist-packages/statsmodels/tools/_testing.py:19: FutureWarning: pandas.util.testing is deprecated. Use the functions in the public API at pandas.testing instead.\n",
            "  import pandas.util.testing as tm\n"
          ],
          "name": "stderr"
        }
      ]
    },
    {
      "cell_type": "code",
      "metadata": {
        "id": "MCyVRzZ4BtTZ",
        "colab_type": "code",
        "colab": {}
      },
      "source": [
        "train=pd.read_csv(\"/content/train.csv\")"
      ],
      "execution_count": null,
      "outputs": []
    },
    {
      "cell_type": "code",
      "metadata": {
        "id": "QWhlHArbEtYJ",
        "colab_type": "code",
        "colab": {}
      },
      "source": [
        "sub=pd.read_csv(\"/content/f43e6583-547c-4b8a-9542-0779e78ba48d_submission.csv\")"
      ],
      "execution_count": null,
      "outputs": []
    },
    {
      "cell_type": "code",
      "metadata": {
        "id": "Q95TBwu-DIPT",
        "colab_type": "code",
        "colab": {}
      },
      "source": [
        "test=pd.read_csv(\"/content/test (1).csv\")"
      ],
      "execution_count": null,
      "outputs": []
    },
    {
      "cell_type": "code",
      "metadata": {
        "id": "tdZM-7M1DNtZ",
        "colab_type": "code",
        "colab": {
          "base_uri": "https://localhost:8080/",
          "height": 402
        },
        "outputId": "dda03faf-4150-4b3c-a274-e5f465216796"
      },
      "source": [
        "test"
      ],
      "execution_count": null,
      "outputs": [
        {
          "output_type": "execute_result",
          "data": {
            "text/html": [
              "<div>\n",
              "<style scoped>\n",
              "    .dataframe tbody tr th:only-of-type {\n",
              "        vertical-align: middle;\n",
              "    }\n",
              "\n",
              "    .dataframe tbody tr th {\n",
              "        vertical-align: top;\n",
              "    }\n",
              "\n",
              "    .dataframe thead th {\n",
              "        text-align: right;\n",
              "    }\n",
              "</style>\n",
              "<table border=\"1\" class=\"dataframe\">\n",
              "  <thead>\n",
              "    <tr style=\"text-align: right;\">\n",
              "      <th></th>\n",
              "      <th>0</th>\n",
              "      <th>1</th>\n",
              "      <th>2</th>\n",
              "      <th>3</th>\n",
              "      <th>4</th>\n",
              "      <th>5</th>\n",
              "    </tr>\n",
              "  </thead>\n",
              "  <tbody>\n",
              "    <tr>\n",
              "      <th>0</th>\n",
              "      <td>3</td>\n",
              "      <td>2</td>\n",
              "      <td>3</td>\n",
              "      <td>4</td>\n",
              "      <td>1</td>\n",
              "      <td>4</td>\n",
              "    </tr>\n",
              "    <tr>\n",
              "      <th>1</th>\n",
              "      <td>1</td>\n",
              "      <td>1</td>\n",
              "      <td>5</td>\n",
              "      <td>6</td>\n",
              "      <td>8</td>\n",
              "      <td>7</td>\n",
              "    </tr>\n",
              "    <tr>\n",
              "      <th>2</th>\n",
              "      <td>4</td>\n",
              "      <td>4</td>\n",
              "      <td>8</td>\n",
              "      <td>5</td>\n",
              "      <td>4</td>\n",
              "      <td>2</td>\n",
              "    </tr>\n",
              "    <tr>\n",
              "      <th>3</th>\n",
              "      <td>2</td>\n",
              "      <td>1</td>\n",
              "      <td>6</td>\n",
              "      <td>8</td>\n",
              "      <td>8</td>\n",
              "      <td>2</td>\n",
              "    </tr>\n",
              "    <tr>\n",
              "      <th>4</th>\n",
              "      <td>3</td>\n",
              "      <td>2</td>\n",
              "      <td>1</td>\n",
              "      <td>3</td>\n",
              "      <td>5</td>\n",
              "      <td>2</td>\n",
              "    </tr>\n",
              "    <tr>\n",
              "      <th>...</th>\n",
              "      <td>...</td>\n",
              "      <td>...</td>\n",
              "      <td>...</td>\n",
              "      <td>...</td>\n",
              "      <td>...</td>\n",
              "      <td>...</td>\n",
              "    </tr>\n",
              "    <tr>\n",
              "      <th>5606</th>\n",
              "      <td>4</td>\n",
              "      <td>1</td>\n",
              "      <td>7</td>\n",
              "      <td>4</td>\n",
              "      <td>6</td>\n",
              "      <td>1</td>\n",
              "    </tr>\n",
              "    <tr>\n",
              "      <th>5607</th>\n",
              "      <td>3</td>\n",
              "      <td>3</td>\n",
              "      <td>8</td>\n",
              "      <td>2</td>\n",
              "      <td>8</td>\n",
              "      <td>1</td>\n",
              "    </tr>\n",
              "    <tr>\n",
              "      <th>5608</th>\n",
              "      <td>3</td>\n",
              "      <td>2</td>\n",
              "      <td>2</td>\n",
              "      <td>1</td>\n",
              "      <td>2</td>\n",
              "      <td>6</td>\n",
              "    </tr>\n",
              "    <tr>\n",
              "      <th>5609</th>\n",
              "      <td>4</td>\n",
              "      <td>3</td>\n",
              "      <td>2</td>\n",
              "      <td>4</td>\n",
              "      <td>8</td>\n",
              "      <td>5</td>\n",
              "    </tr>\n",
              "    <tr>\n",
              "      <th>5610</th>\n",
              "      <td>3</td>\n",
              "      <td>2</td>\n",
              "      <td>4</td>\n",
              "      <td>7</td>\n",
              "      <td>8</td>\n",
              "      <td>2</td>\n",
              "    </tr>\n",
              "  </tbody>\n",
              "</table>\n",
              "<p>5611 rows × 6 columns</p>\n",
              "</div>"
            ],
            "text/plain": [
              "      0  1  2  3  4  5\n",
              "0     3  2  3  4  1  4\n",
              "1     1  1  5  6  8  7\n",
              "2     4  4  8  5  4  2\n",
              "3     2  1  6  8  8  2\n",
              "4     3  2  1  3  5  2\n",
              "...  .. .. .. .. .. ..\n",
              "5606  4  1  7  4  6  1\n",
              "5607  3  3  8  2  8  1\n",
              "5608  3  2  2  1  2  6\n",
              "5609  4  3  2  4  8  5\n",
              "5610  3  2  4  7  8  2\n",
              "\n",
              "[5611 rows x 6 columns]"
            ]
          },
          "metadata": {
            "tags": []
          },
          "execution_count": 9
        }
      ]
    },
    {
      "cell_type": "code",
      "metadata": {
        "id": "8swRZ7aQB23z",
        "colab_type": "code",
        "colab": {
          "base_uri": "https://localhost:8080/",
          "height": 402
        },
        "outputId": "2b8d8720-1622-49e0-faaa-b2090b4cb154"
      },
      "source": [
        "train"
      ],
      "execution_count": null,
      "outputs": [
        {
          "output_type": "execute_result",
          "data": {
            "text/html": [
              "<div>\n",
              "<style scoped>\n",
              "    .dataframe tbody tr th:only-of-type {\n",
              "        vertical-align: middle;\n",
              "    }\n",
              "\n",
              "    .dataframe tbody tr th {\n",
              "        vertical-align: top;\n",
              "    }\n",
              "\n",
              "    .dataframe thead th {\n",
              "        text-align: right;\n",
              "    }\n",
              "</style>\n",
              "<table border=\"1\" class=\"dataframe\">\n",
              "  <thead>\n",
              "    <tr style=\"text-align: right;\">\n",
              "      <th></th>\n",
              "      <th>0</th>\n",
              "      <th>1</th>\n",
              "      <th>2</th>\n",
              "      <th>3</th>\n",
              "      <th>4</th>\n",
              "      <th>5</th>\n",
              "      <th>6</th>\n",
              "    </tr>\n",
              "  </thead>\n",
              "  <tbody>\n",
              "    <tr>\n",
              "      <th>0</th>\n",
              "      <td>3</td>\n",
              "      <td>1</td>\n",
              "      <td>8</td>\n",
              "      <td>2</td>\n",
              "      <td>6</td>\n",
              "      <td>4</td>\n",
              "      <td>14</td>\n",
              "    </tr>\n",
              "    <tr>\n",
              "      <th>1</th>\n",
              "      <td>2</td>\n",
              "      <td>2</td>\n",
              "      <td>7</td>\n",
              "      <td>7</td>\n",
              "      <td>6</td>\n",
              "      <td>2</td>\n",
              "      <td>14</td>\n",
              "    </tr>\n",
              "    <tr>\n",
              "      <th>2</th>\n",
              "      <td>3</td>\n",
              "      <td>1</td>\n",
              "      <td>3</td>\n",
              "      <td>3</td>\n",
              "      <td>7</td>\n",
              "      <td>7</td>\n",
              "      <td>14</td>\n",
              "    </tr>\n",
              "    <tr>\n",
              "      <th>3</th>\n",
              "      <td>4</td>\n",
              "      <td>1</td>\n",
              "      <td>8</td>\n",
              "      <td>2</td>\n",
              "      <td>1</td>\n",
              "      <td>1</td>\n",
              "      <td>4</td>\n",
              "    </tr>\n",
              "    <tr>\n",
              "      <th>4</th>\n",
              "      <td>3</td>\n",
              "      <td>1</td>\n",
              "      <td>1</td>\n",
              "      <td>5</td>\n",
              "      <td>5</td>\n",
              "      <td>3</td>\n",
              "      <td>13</td>\n",
              "    </tr>\n",
              "    <tr>\n",
              "      <th>...</th>\n",
              "      <td>...</td>\n",
              "      <td>...</td>\n",
              "      <td>...</td>\n",
              "      <td>...</td>\n",
              "      <td>...</td>\n",
              "      <td>...</td>\n",
              "      <td>...</td>\n",
              "    </tr>\n",
              "    <tr>\n",
              "      <th>22439</th>\n",
              "      <td>4</td>\n",
              "      <td>1</td>\n",
              "      <td>7</td>\n",
              "      <td>5</td>\n",
              "      <td>3</td>\n",
              "      <td>4</td>\n",
              "      <td>13</td>\n",
              "    </tr>\n",
              "    <tr>\n",
              "      <th>22440</th>\n",
              "      <td>4</td>\n",
              "      <td>1</td>\n",
              "      <td>7</td>\n",
              "      <td>2</td>\n",
              "      <td>3</td>\n",
              "      <td>8</td>\n",
              "      <td>14</td>\n",
              "    </tr>\n",
              "    <tr>\n",
              "      <th>22441</th>\n",
              "      <td>3</td>\n",
              "      <td>2</td>\n",
              "      <td>5</td>\n",
              "      <td>6</td>\n",
              "      <td>4</td>\n",
              "      <td>8</td>\n",
              "      <td>12</td>\n",
              "    </tr>\n",
              "    <tr>\n",
              "      <th>22442</th>\n",
              "      <td>3</td>\n",
              "      <td>1</td>\n",
              "      <td>4</td>\n",
              "      <td>6</td>\n",
              "      <td>5</td>\n",
              "      <td>6</td>\n",
              "      <td>-1</td>\n",
              "    </tr>\n",
              "    <tr>\n",
              "      <th>22443</th>\n",
              "      <td>4</td>\n",
              "      <td>3</td>\n",
              "      <td>5</td>\n",
              "      <td>8</td>\n",
              "      <td>5</td>\n",
              "      <td>5</td>\n",
              "      <td>11</td>\n",
              "    </tr>\n",
              "  </tbody>\n",
              "</table>\n",
              "<p>22444 rows × 7 columns</p>\n",
              "</div>"
            ],
            "text/plain": [
              "       0  1  2  3  4  5   6\n",
              "0      3  1  8  2  6  4  14\n",
              "1      2  2  7  7  6  2  14\n",
              "2      3  1  3  3  7  7  14\n",
              "3      4  1  8  2  1  1   4\n",
              "4      3  1  1  5  5  3  13\n",
              "...   .. .. .. .. .. ..  ..\n",
              "22439  4  1  7  5  3  4  13\n",
              "22440  4  1  7  2  3  8  14\n",
              "22441  3  2  5  6  4  8  12\n",
              "22442  3  1  4  6  5  6  -1\n",
              "22443  4  3  5  8  5  5  11\n",
              "\n",
              "[22444 rows x 7 columns]"
            ]
          },
          "metadata": {
            "tags": []
          },
          "execution_count": 10
        }
      ]
    },
    {
      "cell_type": "code",
      "metadata": {
        "id": "SYHv0rPKCrXK",
        "colab_type": "code",
        "colab": {}
      },
      "source": [
        "y=train.pop(\"6\")"
      ],
      "execution_count": null,
      "outputs": []
    },
    {
      "cell_type": "code",
      "metadata": {
        "id": "I00oq75oCTgO",
        "colab_type": "code",
        "colab": {
          "base_uri": "https://localhost:8080/",
          "height": 402
        },
        "outputId": "f60235fd-3d77-4ef9-bff2-532609fd1a94"
      },
      "source": [
        "train"
      ],
      "execution_count": null,
      "outputs": [
        {
          "output_type": "execute_result",
          "data": {
            "text/html": [
              "<div>\n",
              "<style scoped>\n",
              "    .dataframe tbody tr th:only-of-type {\n",
              "        vertical-align: middle;\n",
              "    }\n",
              "\n",
              "    .dataframe tbody tr th {\n",
              "        vertical-align: top;\n",
              "    }\n",
              "\n",
              "    .dataframe thead th {\n",
              "        text-align: right;\n",
              "    }\n",
              "</style>\n",
              "<table border=\"1\" class=\"dataframe\">\n",
              "  <thead>\n",
              "    <tr style=\"text-align: right;\">\n",
              "      <th></th>\n",
              "      <th>0</th>\n",
              "      <th>1</th>\n",
              "      <th>2</th>\n",
              "      <th>3</th>\n",
              "      <th>4</th>\n",
              "      <th>5</th>\n",
              "    </tr>\n",
              "  </thead>\n",
              "  <tbody>\n",
              "    <tr>\n",
              "      <th>0</th>\n",
              "      <td>3</td>\n",
              "      <td>1</td>\n",
              "      <td>8</td>\n",
              "      <td>2</td>\n",
              "      <td>6</td>\n",
              "      <td>4</td>\n",
              "    </tr>\n",
              "    <tr>\n",
              "      <th>1</th>\n",
              "      <td>2</td>\n",
              "      <td>2</td>\n",
              "      <td>7</td>\n",
              "      <td>7</td>\n",
              "      <td>6</td>\n",
              "      <td>2</td>\n",
              "    </tr>\n",
              "    <tr>\n",
              "      <th>2</th>\n",
              "      <td>3</td>\n",
              "      <td>1</td>\n",
              "      <td>3</td>\n",
              "      <td>3</td>\n",
              "      <td>7</td>\n",
              "      <td>7</td>\n",
              "    </tr>\n",
              "    <tr>\n",
              "      <th>3</th>\n",
              "      <td>4</td>\n",
              "      <td>1</td>\n",
              "      <td>8</td>\n",
              "      <td>2</td>\n",
              "      <td>1</td>\n",
              "      <td>1</td>\n",
              "    </tr>\n",
              "    <tr>\n",
              "      <th>4</th>\n",
              "      <td>3</td>\n",
              "      <td>1</td>\n",
              "      <td>1</td>\n",
              "      <td>5</td>\n",
              "      <td>5</td>\n",
              "      <td>3</td>\n",
              "    </tr>\n",
              "    <tr>\n",
              "      <th>...</th>\n",
              "      <td>...</td>\n",
              "      <td>...</td>\n",
              "      <td>...</td>\n",
              "      <td>...</td>\n",
              "      <td>...</td>\n",
              "      <td>...</td>\n",
              "    </tr>\n",
              "    <tr>\n",
              "      <th>22439</th>\n",
              "      <td>4</td>\n",
              "      <td>1</td>\n",
              "      <td>7</td>\n",
              "      <td>5</td>\n",
              "      <td>3</td>\n",
              "      <td>4</td>\n",
              "    </tr>\n",
              "    <tr>\n",
              "      <th>22440</th>\n",
              "      <td>4</td>\n",
              "      <td>1</td>\n",
              "      <td>7</td>\n",
              "      <td>2</td>\n",
              "      <td>3</td>\n",
              "      <td>8</td>\n",
              "    </tr>\n",
              "    <tr>\n",
              "      <th>22441</th>\n",
              "      <td>3</td>\n",
              "      <td>2</td>\n",
              "      <td>5</td>\n",
              "      <td>6</td>\n",
              "      <td>4</td>\n",
              "      <td>8</td>\n",
              "    </tr>\n",
              "    <tr>\n",
              "      <th>22442</th>\n",
              "      <td>3</td>\n",
              "      <td>1</td>\n",
              "      <td>4</td>\n",
              "      <td>6</td>\n",
              "      <td>5</td>\n",
              "      <td>6</td>\n",
              "    </tr>\n",
              "    <tr>\n",
              "      <th>22443</th>\n",
              "      <td>4</td>\n",
              "      <td>3</td>\n",
              "      <td>5</td>\n",
              "      <td>8</td>\n",
              "      <td>5</td>\n",
              "      <td>5</td>\n",
              "    </tr>\n",
              "  </tbody>\n",
              "</table>\n",
              "<p>22444 rows × 6 columns</p>\n",
              "</div>"
            ],
            "text/plain": [
              "       0  1  2  3  4  5\n",
              "0      3  1  8  2  6  4\n",
              "1      2  2  7  7  6  2\n",
              "2      3  1  3  3  7  7\n",
              "3      4  1  8  2  1  1\n",
              "4      3  1  1  5  5  3\n",
              "...   .. .. .. .. .. ..\n",
              "22439  4  1  7  5  3  4\n",
              "22440  4  1  7  2  3  8\n",
              "22441  3  2  5  6  4  8\n",
              "22442  3  1  4  6  5  6\n",
              "22443  4  3  5  8  5  5\n",
              "\n",
              "[22444 rows x 6 columns]"
            ]
          },
          "metadata": {
            "tags": []
          },
          "execution_count": 38
        }
      ]
    },
    {
      "cell_type": "markdown",
      "metadata": {
        "id": "1cJp4GBJa4ne",
        "colab_type": "text"
      },
      "source": [
        "# LAZY CLASSIFIER"
      ]
    },
    {
      "cell_type": "code",
      "metadata": {
        "id": "5iBx_YRSDUSD",
        "colab_type": "code",
        "colab": {}
      },
      "source": [
        "from sklearn.model_selection import train_test_split\n",
        "X_train, X_test, y_train, y_test = train_test_split(train, y,test_size=.33,random_state =123)"
      ],
      "execution_count": null,
      "outputs": []
    },
    {
      "cell_type": "code",
      "metadata": {
        "id": "-buT73gtDgZ8",
        "colab_type": "code",
        "colab": {
          "base_uri": "https://localhost:8080/",
          "height": 50
        },
        "outputId": "c0c69397-3861-44fd-cab7-f806de968aa5"
      },
      "source": [
        "pip install lazypredict"
      ],
      "execution_count": null,
      "outputs": [
        {
          "output_type": "stream",
          "text": [
            "Requirement already satisfied: lazypredict in /usr/local/lib/python3.6/dist-packages (0.2.7)\n",
            "Requirement already satisfied: Click>=7.0 in /usr/local/lib/python3.6/dist-packages (from lazypredict) (7.1.2)\n"
          ],
          "name": "stdout"
        }
      ]
    },
    {
      "cell_type": "code",
      "metadata": {
        "id": "8d5yZ4APDkGb",
        "colab_type": "code",
        "colab": {
          "base_uri": "https://localhost:8080/",
          "height": 34
        },
        "outputId": "e174d42d-906b-44ff-c995-6ed7935ffbcb"
      },
      "source": [
        "from lazypredict.Supervised import LazyClassifier\n",
        "\n",
        "clf = LazyClassifier(verbose=0,ignore_warnings=True, custom_metric=None,)\n",
        "models,predictions = clf.fit(X_train, X_test, y_train, y_test)"
      ],
      "execution_count": null,
      "outputs": [
        {
          "output_type": "stream",
          "text": [
            "100%|██████████| 30/30 [12:22<00:00, 24.74s/it]\n"
          ],
          "name": "stderr"
        }
      ]
    },
    {
      "cell_type": "code",
      "metadata": {
        "id": "Md4Ixi7EDsuX",
        "colab_type": "code",
        "colab": {
          "base_uri": "https://localhost:8080/",
          "height": 876
        },
        "outputId": "8b3ebb58-4716-4ae4-cdb6-5fcd2effa085"
      },
      "source": [
        "models"
      ],
      "execution_count": null,
      "outputs": [
        {
          "output_type": "execute_result",
          "data": {
            "text/html": [
              "<div>\n",
              "<style scoped>\n",
              "    .dataframe tbody tr th:only-of-type {\n",
              "        vertical-align: middle;\n",
              "    }\n",
              "\n",
              "    .dataframe tbody tr th {\n",
              "        vertical-align: top;\n",
              "    }\n",
              "\n",
              "    .dataframe thead th {\n",
              "        text-align: right;\n",
              "    }\n",
              "</style>\n",
              "<table border=\"1\" class=\"dataframe\">\n",
              "  <thead>\n",
              "    <tr style=\"text-align: right;\">\n",
              "      <th></th>\n",
              "      <th>Accuracy</th>\n",
              "      <th>Balanced Accuracy</th>\n",
              "      <th>ROC AUC</th>\n",
              "      <th>F1 Score</th>\n",
              "      <th>Time Taken</th>\n",
              "    </tr>\n",
              "    <tr>\n",
              "      <th>Model</th>\n",
              "      <th></th>\n",
              "      <th></th>\n",
              "      <th></th>\n",
              "      <th></th>\n",
              "      <th></th>\n",
              "    </tr>\n",
              "  </thead>\n",
              "  <tbody>\n",
              "    <tr>\n",
              "      <th>DecisionTreeClassifier</th>\n",
              "      <td>0.79</td>\n",
              "      <td>0.80</td>\n",
              "      <td>None</td>\n",
              "      <td>0.79</td>\n",
              "      <td>0.07</td>\n",
              "    </tr>\n",
              "    <tr>\n",
              "      <th>BaggingClassifier</th>\n",
              "      <td>0.80</td>\n",
              "      <td>0.79</td>\n",
              "      <td>None</td>\n",
              "      <td>0.80</td>\n",
              "      <td>0.32</td>\n",
              "    </tr>\n",
              "    <tr>\n",
              "      <th>LGBMClassifier</th>\n",
              "      <td>0.75</td>\n",
              "      <td>0.77</td>\n",
              "      <td>None</td>\n",
              "      <td>0.75</td>\n",
              "      <td>4.39</td>\n",
              "    </tr>\n",
              "    <tr>\n",
              "      <th>RandomForestClassifier</th>\n",
              "      <td>0.78</td>\n",
              "      <td>0.76</td>\n",
              "      <td>None</td>\n",
              "      <td>0.78</td>\n",
              "      <td>2.10</td>\n",
              "    </tr>\n",
              "    <tr>\n",
              "      <th>ExtraTreesClassifier</th>\n",
              "      <td>0.74</td>\n",
              "      <td>0.73</td>\n",
              "      <td>None</td>\n",
              "      <td>0.74</td>\n",
              "      <td>2.55</td>\n",
              "    </tr>\n",
              "    <tr>\n",
              "      <th>LabelPropagation</th>\n",
              "      <td>0.62</td>\n",
              "      <td>0.62</td>\n",
              "      <td>None</td>\n",
              "      <td>0.59</td>\n",
              "      <td>660.78</td>\n",
              "    </tr>\n",
              "    <tr>\n",
              "      <th>KNeighborsClassifier</th>\n",
              "      <td>0.65</td>\n",
              "      <td>0.61</td>\n",
              "      <td>None</td>\n",
              "      <td>0.65</td>\n",
              "      <td>0.38</td>\n",
              "    </tr>\n",
              "    <tr>\n",
              "      <th>LabelSpreading</th>\n",
              "      <td>0.61</td>\n",
              "      <td>0.60</td>\n",
              "      <td>None</td>\n",
              "      <td>0.58</td>\n",
              "      <td>21.86</td>\n",
              "    </tr>\n",
              "    <tr>\n",
              "      <th>XGBClassifier</th>\n",
              "      <td>0.51</td>\n",
              "      <td>0.50</td>\n",
              "      <td>None</td>\n",
              "      <td>0.50</td>\n",
              "      <td>8.69</td>\n",
              "    </tr>\n",
              "    <tr>\n",
              "      <th>ExtraTreeClassifier</th>\n",
              "      <td>0.52</td>\n",
              "      <td>0.49</td>\n",
              "      <td>None</td>\n",
              "      <td>0.52</td>\n",
              "      <td>0.05</td>\n",
              "    </tr>\n",
              "    <tr>\n",
              "      <th>SVC</th>\n",
              "      <td>0.52</td>\n",
              "      <td>0.42</td>\n",
              "      <td>None</td>\n",
              "      <td>0.51</td>\n",
              "      <td>13.82</td>\n",
              "    </tr>\n",
              "    <tr>\n",
              "      <th>QuadraticDiscriminantAnalysis</th>\n",
              "      <td>0.24</td>\n",
              "      <td>0.31</td>\n",
              "      <td>None</td>\n",
              "      <td>0.25</td>\n",
              "      <td>0.10</td>\n",
              "    </tr>\n",
              "    <tr>\n",
              "      <th>NearestCentroid</th>\n",
              "      <td>0.18</td>\n",
              "      <td>0.28</td>\n",
              "      <td>None</td>\n",
              "      <td>0.18</td>\n",
              "      <td>0.05</td>\n",
              "    </tr>\n",
              "    <tr>\n",
              "      <th>GaussianNB</th>\n",
              "      <td>0.23</td>\n",
              "      <td>0.27</td>\n",
              "      <td>None</td>\n",
              "      <td>0.21</td>\n",
              "      <td>0.21</td>\n",
              "    </tr>\n",
              "    <tr>\n",
              "      <th>LogisticRegression</th>\n",
              "      <td>0.27</td>\n",
              "      <td>0.24</td>\n",
              "      <td>None</td>\n",
              "      <td>0.24</td>\n",
              "      <td>3.34</td>\n",
              "    </tr>\n",
              "    <tr>\n",
              "      <th>LinearSVC</th>\n",
              "      <td>0.27</td>\n",
              "      <td>0.21</td>\n",
              "      <td>None</td>\n",
              "      <td>0.21</td>\n",
              "      <td>4.06</td>\n",
              "    </tr>\n",
              "    <tr>\n",
              "      <th>CalibratedClassifierCV</th>\n",
              "      <td>0.28</td>\n",
              "      <td>0.21</td>\n",
              "      <td>None</td>\n",
              "      <td>0.24</td>\n",
              "      <td>16.56</td>\n",
              "    </tr>\n",
              "    <tr>\n",
              "      <th>LinearDiscriminantAnalysis</th>\n",
              "      <td>0.26</td>\n",
              "      <td>0.19</td>\n",
              "      <td>None</td>\n",
              "      <td>0.23</td>\n",
              "      <td>0.09</td>\n",
              "    </tr>\n",
              "    <tr>\n",
              "      <th>SGDClassifier</th>\n",
              "      <td>0.19</td>\n",
              "      <td>0.17</td>\n",
              "      <td>None</td>\n",
              "      <td>0.14</td>\n",
              "      <td>0.43</td>\n",
              "    </tr>\n",
              "    <tr>\n",
              "      <th>AdaBoostClassifier</th>\n",
              "      <td>0.23</td>\n",
              "      <td>0.14</td>\n",
              "      <td>None</td>\n",
              "      <td>0.19</td>\n",
              "      <td>1.33</td>\n",
              "    </tr>\n",
              "    <tr>\n",
              "      <th>Perceptron</th>\n",
              "      <td>0.18</td>\n",
              "      <td>0.13</td>\n",
              "      <td>None</td>\n",
              "      <td>0.15</td>\n",
              "      <td>0.20</td>\n",
              "    </tr>\n",
              "    <tr>\n",
              "      <th>BernoulliNB</th>\n",
              "      <td>0.23</td>\n",
              "      <td>0.13</td>\n",
              "      <td>None</td>\n",
              "      <td>0.19</td>\n",
              "      <td>0.06</td>\n",
              "    </tr>\n",
              "    <tr>\n",
              "      <th>RidgeClassifier</th>\n",
              "      <td>0.25</td>\n",
              "      <td>0.12</td>\n",
              "      <td>None</td>\n",
              "      <td>0.18</td>\n",
              "      <td>0.32</td>\n",
              "    </tr>\n",
              "    <tr>\n",
              "      <th>RidgeClassifierCV</th>\n",
              "      <td>0.25</td>\n",
              "      <td>0.12</td>\n",
              "      <td>None</td>\n",
              "      <td>0.18</td>\n",
              "      <td>0.14</td>\n",
              "    </tr>\n",
              "    <tr>\n",
              "      <th>PassiveAggressiveClassifier</th>\n",
              "      <td>0.18</td>\n",
              "      <td>0.08</td>\n",
              "      <td>None</td>\n",
              "      <td>0.14</td>\n",
              "      <td>0.22</td>\n",
              "    </tr>\n",
              "    <tr>\n",
              "      <th>CheckingClassifier</th>\n",
              "      <td>0.10</td>\n",
              "      <td>0.06</td>\n",
              "      <td>None</td>\n",
              "      <td>0.02</td>\n",
              "      <td>0.04</td>\n",
              "    </tr>\n",
              "    <tr>\n",
              "      <th>DummyClassifier</th>\n",
              "      <td>0.10</td>\n",
              "      <td>0.05</td>\n",
              "      <td>None</td>\n",
              "      <td>0.10</td>\n",
              "      <td>0.04</td>\n",
              "    </tr>\n",
              "  </tbody>\n",
              "</table>\n",
              "</div>"
            ],
            "text/plain": [
              "                               Accuracy  ...  Time Taken\n",
              "Model                                    ...            \n",
              "DecisionTreeClassifier             0.79  ...        0.07\n",
              "BaggingClassifier                  0.80  ...        0.32\n",
              "LGBMClassifier                     0.75  ...        4.39\n",
              "RandomForestClassifier             0.78  ...        2.10\n",
              "ExtraTreesClassifier               0.74  ...        2.55\n",
              "LabelPropagation                   0.62  ...      660.78\n",
              "KNeighborsClassifier               0.65  ...        0.38\n",
              "LabelSpreading                     0.61  ...       21.86\n",
              "XGBClassifier                      0.51  ...        8.69\n",
              "ExtraTreeClassifier                0.52  ...        0.05\n",
              "SVC                                0.52  ...       13.82\n",
              "QuadraticDiscriminantAnalysis      0.24  ...        0.10\n",
              "NearestCentroid                    0.18  ...        0.05\n",
              "GaussianNB                         0.23  ...        0.21\n",
              "LogisticRegression                 0.27  ...        3.34\n",
              "LinearSVC                          0.27  ...        4.06\n",
              "CalibratedClassifierCV             0.28  ...       16.56\n",
              "LinearDiscriminantAnalysis         0.26  ...        0.09\n",
              "SGDClassifier                      0.19  ...        0.43\n",
              "AdaBoostClassifier                 0.23  ...        1.33\n",
              "Perceptron                         0.18  ...        0.20\n",
              "BernoulliNB                        0.23  ...        0.06\n",
              "RidgeClassifier                    0.25  ...        0.32\n",
              "RidgeClassifierCV                  0.25  ...        0.14\n",
              "PassiveAggressiveClassifier        0.18  ...        0.22\n",
              "CheckingClassifier                 0.10  ...        0.04\n",
              "DummyClassifier                    0.10  ...        0.04\n",
              "\n",
              "[27 rows x 5 columns]"
            ]
          },
          "metadata": {
            "tags": []
          },
          "execution_count": 45
        }
      ]
    },
    {
      "cell_type": "markdown",
      "metadata": {
        "id": "TVjXu8eMa9Lj",
        "colab_type": "text"
      },
      "source": [
        "# LAZY REGRESSOR"
      ]
    },
    {
      "cell_type": "code",
      "metadata": {
        "id": "FHVWUroVLVd6",
        "colab_type": "code",
        "colab": {
          "base_uri": "https://localhost:8080/",
          "height": 84
        },
        "outputId": "799b80a4-94d1-4f2c-a08e-80fb81c63ff1"
      },
      "source": [
        "from lazypredict.Supervised import LazyRegressor\n",
        "reg = LazyRegressor(verbose=0,ignore_warnings=False, custom_metric=None )\n",
        "models,predictions = reg.fit(X_train, X_test, y_train, y_test)"
      ],
      "execution_count": null,
      "outputs": [
        {
          "output_type": "stream",
          "text": [
            " 92%|█████████▏| 36/39 [03:17<00:13,  4.52s/it]"
          ],
          "name": "stderr"
        },
        {
          "output_type": "stream",
          "text": [
            "StackingRegressor model failed to execute\n",
            "__init__() missing 1 required positional argument: 'estimators'\n",
            "[14:42:26] WARNING: /workspace/src/objective/regression_obj.cu:152: reg:linear is now deprecated in favor of reg:squarederror.\n"
          ],
          "name": "stdout"
        },
        {
          "output_type": "stream",
          "text": [
            "100%|██████████| 39/39 [03:18<00:00,  5.08s/it]\n"
          ],
          "name": "stderr"
        }
      ]
    },
    {
      "cell_type": "code",
      "metadata": {
        "id": "hPEoCyR5Lck_",
        "colab_type": "code",
        "colab": {
          "base_uri": "https://localhost:8080/",
          "height": 1000
        },
        "outputId": "3faa6cfe-f557-41d4-a600-4abeae0e09f1"
      },
      "source": [
        "models"
      ],
      "execution_count": null,
      "outputs": [
        {
          "output_type": "execute_result",
          "data": {
            "text/html": [
              "<div>\n",
              "<style scoped>\n",
              "    .dataframe tbody tr th:only-of-type {\n",
              "        vertical-align: middle;\n",
              "    }\n",
              "\n",
              "    .dataframe tbody tr th {\n",
              "        vertical-align: top;\n",
              "    }\n",
              "\n",
              "    .dataframe thead th {\n",
              "        text-align: right;\n",
              "    }\n",
              "</style>\n",
              "<table border=\"1\" class=\"dataframe\">\n",
              "  <thead>\n",
              "    <tr style=\"text-align: right;\">\n",
              "      <th></th>\n",
              "      <th>R-Squared</th>\n",
              "      <th>RMSE</th>\n",
              "      <th>Time Taken</th>\n",
              "    </tr>\n",
              "    <tr>\n",
              "      <th>Model</th>\n",
              "      <th></th>\n",
              "      <th></th>\n",
              "      <th></th>\n",
              "    </tr>\n",
              "  </thead>\n",
              "  <tbody>\n",
              "    <tr>\n",
              "      <th>RandomForestRegressor</th>\n",
              "      <td>0.91</td>\n",
              "      <td>1.43</td>\n",
              "      <td>2.26</td>\n",
              "    </tr>\n",
              "    <tr>\n",
              "      <th>BaggingRegressor</th>\n",
              "      <td>0.87</td>\n",
              "      <td>1.69</td>\n",
              "      <td>0.26</td>\n",
              "    </tr>\n",
              "    <tr>\n",
              "      <th>ExtraTreesRegressor</th>\n",
              "      <td>0.87</td>\n",
              "      <td>1.70</td>\n",
              "      <td>2.29</td>\n",
              "    </tr>\n",
              "    <tr>\n",
              "      <th>MLPRegressor</th>\n",
              "      <td>0.84</td>\n",
              "      <td>1.84</td>\n",
              "      <td>17.66</td>\n",
              "    </tr>\n",
              "    <tr>\n",
              "      <th>DecisionTreeRegressor</th>\n",
              "      <td>0.74</td>\n",
              "      <td>2.36</td>\n",
              "      <td>0.08</td>\n",
              "    </tr>\n",
              "    <tr>\n",
              "      <th>LGBMRegressor</th>\n",
              "      <td>0.70</td>\n",
              "      <td>2.55</td>\n",
              "      <td>0.18</td>\n",
              "    </tr>\n",
              "    <tr>\n",
              "      <th>HistGradientBoostingRegressor</th>\n",
              "      <td>0.70</td>\n",
              "      <td>2.55</td>\n",
              "      <td>0.73</td>\n",
              "    </tr>\n",
              "    <tr>\n",
              "      <th>KNeighborsRegressor</th>\n",
              "      <td>0.69</td>\n",
              "      <td>2.60</td>\n",
              "      <td>0.27</td>\n",
              "    </tr>\n",
              "    <tr>\n",
              "      <th>GradientBoostingRegressor</th>\n",
              "      <td>0.44</td>\n",
              "      <td>3.47</td>\n",
              "      <td>0.83</td>\n",
              "    </tr>\n",
              "    <tr>\n",
              "      <th>XGBRegressor</th>\n",
              "      <td>0.44</td>\n",
              "      <td>3.49</td>\n",
              "      <td>0.61</td>\n",
              "    </tr>\n",
              "    <tr>\n",
              "      <th>ExtraTreeRegressor</th>\n",
              "      <td>0.34</td>\n",
              "      <td>3.78</td>\n",
              "      <td>0.06</td>\n",
              "    </tr>\n",
              "    <tr>\n",
              "      <th>NuSVR</th>\n",
              "      <td>0.31</td>\n",
              "      <td>3.86</td>\n",
              "      <td>17.84</td>\n",
              "    </tr>\n",
              "    <tr>\n",
              "      <th>SVR</th>\n",
              "      <td>0.28</td>\n",
              "      <td>3.95</td>\n",
              "      <td>16.52</td>\n",
              "    </tr>\n",
              "    <tr>\n",
              "      <th>AdaBoostRegressor</th>\n",
              "      <td>0.21</td>\n",
              "      <td>4.13</td>\n",
              "      <td>0.16</td>\n",
              "    </tr>\n",
              "    <tr>\n",
              "      <th>LassoLarsIC</th>\n",
              "      <td>0.12</td>\n",
              "      <td>4.36</td>\n",
              "      <td>0.02</td>\n",
              "    </tr>\n",
              "    <tr>\n",
              "      <th>ElasticNetCV</th>\n",
              "      <td>0.12</td>\n",
              "      <td>4.36</td>\n",
              "      <td>0.27</td>\n",
              "    </tr>\n",
              "    <tr>\n",
              "      <th>LassoCV</th>\n",
              "      <td>0.12</td>\n",
              "      <td>4.36</td>\n",
              "      <td>0.21</td>\n",
              "    </tr>\n",
              "    <tr>\n",
              "      <th>BayesianRidge</th>\n",
              "      <td>0.12</td>\n",
              "      <td>4.36</td>\n",
              "      <td>0.05</td>\n",
              "    </tr>\n",
              "    <tr>\n",
              "      <th>LarsCV</th>\n",
              "      <td>0.12</td>\n",
              "      <td>4.36</td>\n",
              "      <td>0.05</td>\n",
              "    </tr>\n",
              "    <tr>\n",
              "      <th>LassoLarsCV</th>\n",
              "      <td>0.12</td>\n",
              "      <td>4.36</td>\n",
              "      <td>0.06</td>\n",
              "    </tr>\n",
              "    <tr>\n",
              "      <th>OrthogonalMatchingPursuitCV</th>\n",
              "      <td>0.12</td>\n",
              "      <td>4.36</td>\n",
              "      <td>0.04</td>\n",
              "    </tr>\n",
              "    <tr>\n",
              "      <th>RidgeCV</th>\n",
              "      <td>0.12</td>\n",
              "      <td>4.36</td>\n",
              "      <td>0.02</td>\n",
              "    </tr>\n",
              "    <tr>\n",
              "      <th>Ridge</th>\n",
              "      <td>0.12</td>\n",
              "      <td>4.36</td>\n",
              "      <td>0.02</td>\n",
              "    </tr>\n",
              "    <tr>\n",
              "      <th>TransformedTargetRegressor</th>\n",
              "      <td>0.12</td>\n",
              "      <td>4.36</td>\n",
              "      <td>0.02</td>\n",
              "    </tr>\n",
              "    <tr>\n",
              "      <th>LinearRegression</th>\n",
              "      <td>0.12</td>\n",
              "      <td>4.36</td>\n",
              "      <td>0.02</td>\n",
              "    </tr>\n",
              "    <tr>\n",
              "      <th>Lars</th>\n",
              "      <td>0.12</td>\n",
              "      <td>4.36</td>\n",
              "      <td>0.02</td>\n",
              "    </tr>\n",
              "    <tr>\n",
              "      <th>SGDRegressor</th>\n",
              "      <td>0.12</td>\n",
              "      <td>4.37</td>\n",
              "      <td>0.06</td>\n",
              "    </tr>\n",
              "    <tr>\n",
              "      <th>ElasticNet</th>\n",
              "      <td>0.07</td>\n",
              "      <td>4.49</td>\n",
              "      <td>0.04</td>\n",
              "    </tr>\n",
              "    <tr>\n",
              "      <th>OrthogonalMatchingPursuit</th>\n",
              "      <td>0.06</td>\n",
              "      <td>4.49</td>\n",
              "      <td>0.02</td>\n",
              "    </tr>\n",
              "    <tr>\n",
              "      <th>HuberRegressor</th>\n",
              "      <td>0.05</td>\n",
              "      <td>4.53</td>\n",
              "      <td>0.10</td>\n",
              "    </tr>\n",
              "    <tr>\n",
              "      <th>LinearSVR</th>\n",
              "      <td>0.03</td>\n",
              "      <td>4.59</td>\n",
              "      <td>0.08</td>\n",
              "    </tr>\n",
              "    <tr>\n",
              "      <th>Lasso</th>\n",
              "      <td>0.02</td>\n",
              "      <td>4.61</td>\n",
              "      <td>0.02</td>\n",
              "    </tr>\n",
              "    <tr>\n",
              "      <th>DummyRegressor</th>\n",
              "      <td>-0.00</td>\n",
              "      <td>4.65</td>\n",
              "      <td>0.04</td>\n",
              "    </tr>\n",
              "    <tr>\n",
              "      <th>LassoLars</th>\n",
              "      <td>-0.00</td>\n",
              "      <td>4.65</td>\n",
              "      <td>0.02</td>\n",
              "    </tr>\n",
              "    <tr>\n",
              "      <th>RANSACRegressor</th>\n",
              "      <td>-0.14</td>\n",
              "      <td>4.97</td>\n",
              "      <td>0.13</td>\n",
              "    </tr>\n",
              "    <tr>\n",
              "      <th>PassiveAggressiveRegressor</th>\n",
              "      <td>-0.49</td>\n",
              "      <td>5.68</td>\n",
              "      <td>0.04</td>\n",
              "    </tr>\n",
              "    <tr>\n",
              "      <th>KernelRidge</th>\n",
              "      <td>-5.73</td>\n",
              "      <td>12.06</td>\n",
              "      <td>50.76</td>\n",
              "    </tr>\n",
              "    <tr>\n",
              "      <th>GaussianProcessRegressor</th>\n",
              "      <td>-18.62</td>\n",
              "      <td>20.59</td>\n",
              "      <td>115.29</td>\n",
              "    </tr>\n",
              "  </tbody>\n",
              "</table>\n",
              "</div>"
            ],
            "text/plain": [
              "                               R-Squared  RMSE  Time Taken\n",
              "Model                                                     \n",
              "RandomForestRegressor               0.91  1.43        2.26\n",
              "BaggingRegressor                    0.87  1.69        0.26\n",
              "ExtraTreesRegressor                 0.87  1.70        2.29\n",
              "MLPRegressor                        0.84  1.84       17.66\n",
              "DecisionTreeRegressor               0.74  2.36        0.08\n",
              "LGBMRegressor                       0.70  2.55        0.18\n",
              "HistGradientBoostingRegressor       0.70  2.55        0.73\n",
              "KNeighborsRegressor                 0.69  2.60        0.27\n",
              "GradientBoostingRegressor           0.44  3.47        0.83\n",
              "XGBRegressor                        0.44  3.49        0.61\n",
              "ExtraTreeRegressor                  0.34  3.78        0.06\n",
              "NuSVR                               0.31  3.86       17.84\n",
              "SVR                                 0.28  3.95       16.52\n",
              "AdaBoostRegressor                   0.21  4.13        0.16\n",
              "LassoLarsIC                         0.12  4.36        0.02\n",
              "ElasticNetCV                        0.12  4.36        0.27\n",
              "LassoCV                             0.12  4.36        0.21\n",
              "BayesianRidge                       0.12  4.36        0.05\n",
              "LarsCV                              0.12  4.36        0.05\n",
              "LassoLarsCV                         0.12  4.36        0.06\n",
              "OrthogonalMatchingPursuitCV         0.12  4.36        0.04\n",
              "RidgeCV                             0.12  4.36        0.02\n",
              "Ridge                               0.12  4.36        0.02\n",
              "TransformedTargetRegressor          0.12  4.36        0.02\n",
              "LinearRegression                    0.12  4.36        0.02\n",
              "Lars                                0.12  4.36        0.02\n",
              "SGDRegressor                        0.12  4.37        0.06\n",
              "ElasticNet                          0.07  4.49        0.04\n",
              "OrthogonalMatchingPursuit           0.06  4.49        0.02\n",
              "HuberRegressor                      0.05  4.53        0.10\n",
              "LinearSVR                           0.03  4.59        0.08\n",
              "Lasso                               0.02  4.61        0.02\n",
              "DummyRegressor                     -0.00  4.65        0.04\n",
              "LassoLars                          -0.00  4.65        0.02\n",
              "RANSACRegressor                    -0.14  4.97        0.13\n",
              "PassiveAggressiveRegressor         -0.49  5.68        0.04\n",
              "KernelRidge                        -5.73 12.06       50.76\n",
              "GaussianProcessRegressor          -18.62 20.59      115.29"
            ]
          },
          "metadata": {
            "tags": []
          },
          "execution_count": 43
        }
      ]
    },
    {
      "cell_type": "markdown",
      "metadata": {
        "id": "z88zx3XRbBSV",
        "colab_type": "text"
      },
      "source": [
        "# BAGGING CLASSIFIER"
      ]
    },
    {
      "cell_type": "code",
      "metadata": {
        "id": "_l5kOOSvDz1Z",
        "colab_type": "code",
        "colab": {}
      },
      "source": [
        "from sklearn.ensemble import BaggingClassifier\n",
        "bag=BaggingClassifier()\n",
        "bag.fit(train,y)\n",
        "pred=bag.predict(test)"
      ],
      "execution_count": null,
      "outputs": []
    },
    {
      "cell_type": "code",
      "metadata": {
        "id": "UKqQWo3gEmnO",
        "colab_type": "code",
        "colab": {}
      },
      "source": [
        "sub[\"depth\"]=pred-1"
      ],
      "execution_count": null,
      "outputs": []
    },
    {
      "cell_type": "code",
      "metadata": {
        "id": "PYPI3PIeEnqR",
        "colab_type": "code",
        "colab": {}
      },
      "source": [
        "sub.to_csv(\"submission.csv\",index=False)"
      ],
      "execution_count": null,
      "outputs": []
    },
    {
      "cell_type": "markdown",
      "metadata": {
        "id": "7QZkopQWbEGy",
        "colab_type": "text"
      },
      "source": [
        "# DECISION-TREE CLASSIFIER"
      ]
    },
    {
      "cell_type": "code",
      "metadata": {
        "id": "oPqTuUydGbL4",
        "colab_type": "code",
        "colab": {}
      },
      "source": [
        "from sklearn.tree import DecisionTreeClassifier\n",
        "dtr=DecisionTreeClassifier()\n",
        "dtr.fit(train,y)\n",
        "pred1=dtr.predict(test)\n",
        "sub[\"depth\"]=pred1-1\n",
        "sub.to_csv(\"submission.csv\",index=False)"
      ],
      "execution_count": null,
      "outputs": []
    },
    {
      "cell_type": "markdown",
      "metadata": {
        "id": "-o4b7_JgbKIu",
        "colab_type": "text"
      },
      "source": [
        "# RANDOM-FOREST REGRESSOR"
      ]
    },
    {
      "cell_type": "code",
      "metadata": {
        "id": "OtbYdxCfG_j9",
        "colab_type": "code",
        "colab": {}
      },
      "source": [
        "from sklearn.ensemble import RandomForestRegressor\n",
        "rnd=RandomForestRegressor()\n"
      ],
      "execution_count": null,
      "outputs": []
    },
    {
      "cell_type": "code",
      "metadata": {
        "id": "BfVClbaSNJH_",
        "colab_type": "code",
        "colab": {
          "base_uri": "https://localhost:8080/",
          "height": 402
        },
        "outputId": "afafbced-a66a-48be-fa7d-b34d52a7e2ad"
      },
      "source": [
        "sub"
      ],
      "execution_count": null,
      "outputs": [
        {
          "output_type": "execute_result",
          "data": {
            "text/html": [
              "<div>\n",
              "<style scoped>\n",
              "    .dataframe tbody tr th:only-of-type {\n",
              "        vertical-align: middle;\n",
              "    }\n",
              "\n",
              "    .dataframe tbody tr th {\n",
              "        vertical-align: top;\n",
              "    }\n",
              "\n",
              "    .dataframe thead th {\n",
              "        text-align: right;\n",
              "    }\n",
              "</style>\n",
              "<table border=\"1\" class=\"dataframe\">\n",
              "  <thead>\n",
              "    <tr style=\"text-align: right;\">\n",
              "      <th></th>\n",
              "      <th>depth</th>\n",
              "    </tr>\n",
              "  </thead>\n",
              "  <tbody>\n",
              "    <tr>\n",
              "      <th>0</th>\n",
              "      <td>5.00</td>\n",
              "    </tr>\n",
              "    <tr>\n",
              "      <th>1</th>\n",
              "      <td>14.00</td>\n",
              "    </tr>\n",
              "    <tr>\n",
              "      <th>2</th>\n",
              "      <td>8.00</td>\n",
              "    </tr>\n",
              "    <tr>\n",
              "      <th>3</th>\n",
              "      <td>12.00</td>\n",
              "    </tr>\n",
              "    <tr>\n",
              "      <th>4</th>\n",
              "      <td>7.00</td>\n",
              "    </tr>\n",
              "    <tr>\n",
              "      <th>...</th>\n",
              "      <td>...</td>\n",
              "    </tr>\n",
              "    <tr>\n",
              "      <th>5606</th>\n",
              "      <td>9.00</td>\n",
              "    </tr>\n",
              "    <tr>\n",
              "      <th>5607</th>\n",
              "      <td>-1.00</td>\n",
              "    </tr>\n",
              "    <tr>\n",
              "      <th>5608</th>\n",
              "      <td>12.00</td>\n",
              "    </tr>\n",
              "    <tr>\n",
              "      <th>5609</th>\n",
              "      <td>11.00</td>\n",
              "    </tr>\n",
              "    <tr>\n",
              "      <th>5610</th>\n",
              "      <td>9.00</td>\n",
              "    </tr>\n",
              "  </tbody>\n",
              "</table>\n",
              "<p>5611 rows × 1 columns</p>\n",
              "</div>"
            ],
            "text/plain": [
              "      depth\n",
              "0      5.00\n",
              "1     14.00\n",
              "2      8.00\n",
              "3     12.00\n",
              "4      7.00\n",
              "...     ...\n",
              "5606   9.00\n",
              "5607  -1.00\n",
              "5608  12.00\n",
              "5609  11.00\n",
              "5610   9.00\n",
              "\n",
              "[5611 rows x 1 columns]"
            ]
          },
          "metadata": {
            "tags": []
          },
          "execution_count": 56
        }
      ]
    },
    {
      "cell_type": "code",
      "metadata": {
        "id": "FxxBcqg0Ohwx",
        "colab_type": "code",
        "colab": {}
      },
      "source": [
        "sub[\"depth\"]=round(sub[\"depth\"])"
      ],
      "execution_count": null,
      "outputs": []
    },
    {
      "cell_type": "code",
      "metadata": {
        "id": "zty8UczFOvMK",
        "colab_type": "code",
        "colab": {}
      },
      "source": [
        "sub.to_csv(\"submission.csv\")"
      ],
      "execution_count": null,
      "outputs": []
    },
    {
      "cell_type": "markdown",
      "metadata": {
        "id": "FqmogcC6bRGj",
        "colab_type": "text"
      },
      "source": [
        "# NEURAL NETWORKS"
      ]
    },
    {
      "cell_type": "code",
      "metadata": {
        "id": "3MDoNIpQbQJ6",
        "colab_type": "code",
        "colab": {}
      },
      "source": [
        "from keras.models import Sequential\n",
        "from keras.layers import Dense\n",
        "import tensorflow as tf"
      ],
      "execution_count": null,
      "outputs": []
    },
    {
      "cell_type": "code",
      "metadata": {
        "id": "XLT1edYKbYKB",
        "colab_type": "code",
        "colab": {}
      },
      "source": [
        "model = Sequential()\n",
        "model.add(Dense(20, input_dim=6, kernel_initializer='normal', activation='relu'))\n",
        "#model.add(Dense(3, input_dim=6, kernel_initializer='normal', activation='relu'))\n",
        "model.add(Dense(1,kernel_initializer='normal'))\n",
        "\t# Compile model\n",
        "model.compile(loss=tf.keras.losses.MeanSquaredError(),optimizer='rmsprop')"
      ],
      "execution_count": null,
      "outputs": []
    },
    {
      "cell_type": "code",
      "metadata": {
        "id": "LdwE1x_7biAK",
        "colab_type": "code",
        "colab": {}
      },
      "source": [
        "\n",
        "reduce_lr = tf.keras.callbacks.ReduceLROnPlateau(monitor='val_loss', factor=0.2,\n",
        "                              patience=5, min_lr=0.01)\n",
        "Earlystop = tf.keras.callbacks.EarlyStopping(monitor='val_loss', patience=2)"
      ],
      "execution_count": null,
      "outputs": []
    },
    {
      "cell_type": "code",
      "metadata": {
        "id": "qpq4JTbUbleZ",
        "colab_type": "code",
        "colab": {
          "base_uri": "https://localhost:8080/",
          "height": 1000
        },
        "outputId": "fc0ab4c9-1166-44a5-f6e5-e427e3770b1b"
      },
      "source": [
        "model.fit(X_train,y_train, epochs=500, batch_size=32, validation_data=(X_test,y_test), callbacks=[Earlystop], verbose=2)"
      ],
      "execution_count": null,
      "outputs": [
        {
          "output_type": "stream",
          "text": [
            "Train on 15037 samples, validate on 7407 samples\n",
            "Epoch 1/500\n",
            " - 1s - loss: 38.1695 - val_loss: 23.6339\n",
            "Epoch 2/500\n",
            " - 1s - loss: 23.0175 - val_loss: 22.6781\n",
            "Epoch 3/500\n",
            " - 1s - loss: 22.3911 - val_loss: 22.1799\n",
            "Epoch 4/500\n",
            " - 1s - loss: 21.9538 - val_loss: 21.7232\n",
            "Epoch 5/500\n",
            " - 1s - loss: 21.5270 - val_loss: 21.3152\n",
            "Epoch 6/500\n",
            " - 1s - loss: 21.1482 - val_loss: 20.9393\n",
            "Epoch 7/500\n",
            " - 1s - loss: 20.7832 - val_loss: 20.5864\n",
            "Epoch 8/500\n",
            " - 1s - loss: 20.4426 - val_loss: 20.2198\n",
            "Epoch 9/500\n",
            " - 1s - loss: 20.1326 - val_loss: 19.9037\n",
            "Epoch 10/500\n",
            " - 1s - loss: 19.8647 - val_loss: 19.6567\n",
            "Epoch 11/500\n",
            " - 1s - loss: 19.6446 - val_loss: 19.6211\n",
            "Epoch 12/500\n",
            " - 1s - loss: 19.4630 - val_loss: 19.2854\n",
            "Epoch 13/500\n",
            " - 1s - loss: 19.3019 - val_loss: 19.1298\n",
            "Epoch 14/500\n",
            " - 1s - loss: 19.0678 - val_loss: 19.0328\n",
            "Epoch 15/500\n",
            " - 1s - loss: 18.7112 - val_loss: 18.5738\n",
            "Epoch 16/500\n",
            " - 1s - loss: 18.3606 - val_loss: 18.1080\n",
            "Epoch 17/500\n",
            " - 1s - loss: 18.0759 - val_loss: 18.1017\n",
            "Epoch 18/500\n",
            " - 1s - loss: 17.8829 - val_loss: 17.7098\n",
            "Epoch 19/500\n",
            " - 1s - loss: 17.7473 - val_loss: 17.5885\n",
            "Epoch 20/500\n",
            " - 1s - loss: 17.6284 - val_loss: 17.4682\n",
            "Epoch 21/500\n",
            " - 1s - loss: 17.5699 - val_loss: 17.3985\n",
            "Epoch 22/500\n",
            " - 1s - loss: 17.4748 - val_loss: 17.3272\n",
            "Epoch 23/500\n",
            " - 1s - loss: 17.4050 - val_loss: 17.2300\n",
            "Epoch 24/500\n",
            " - 1s - loss: 17.3027 - val_loss: 17.2553\n",
            "Epoch 25/500\n",
            " - 1s - loss: 17.1549 - val_loss: 17.0303\n",
            "Epoch 26/500\n",
            " - 1s - loss: 17.0035 - val_loss: 16.9043\n",
            "Epoch 27/500\n",
            " - 1s - loss: 16.8692 - val_loss: 16.7935\n",
            "Epoch 28/500\n",
            " - 1s - loss: 16.7296 - val_loss: 16.7615\n",
            "Epoch 29/500\n",
            " - 1s - loss: 16.6159 - val_loss: 16.4758\n",
            "Epoch 30/500\n",
            " - 1s - loss: 16.5111 - val_loss: 16.4742\n",
            "Epoch 31/500\n",
            " - 1s - loss: 16.4483 - val_loss: 16.3992\n",
            "Epoch 32/500\n",
            " - 1s - loss: 16.3975 - val_loss: 16.3406\n",
            "Epoch 33/500\n",
            " - 1s - loss: 16.3342 - val_loss: 16.2790\n",
            "Epoch 34/500\n",
            " - 1s - loss: 16.2982 - val_loss: 16.4240\n",
            "Epoch 35/500\n",
            " - 1s - loss: 16.2592 - val_loss: 16.3085\n"
          ],
          "name": "stdout"
        },
        {
          "output_type": "execute_result",
          "data": {
            "text/plain": [
              "<keras.callbacks.callbacks.History at 0x7f379ce44fd0>"
            ]
          },
          "metadata": {
            "tags": []
          },
          "execution_count": 68
        }
      ]
    },
    {
      "cell_type": "code",
      "metadata": {
        "id": "97w4OH5Pb4DF",
        "colab_type": "code",
        "colab": {}
      },
      "source": [
        "pred_nn=model.predict(test)"
      ],
      "execution_count": null,
      "outputs": []
    },
    {
      "cell_type": "code",
      "metadata": {
        "id": "KkYELRRJcYZH",
        "colab_type": "code",
        "colab": {
          "base_uri": "https://localhost:8080/",
          "height": 134
        },
        "outputId": "1f3fe65e-b7cd-4b4f-c3b0-2309efadad24"
      },
      "source": [
        "pred_nn"
      ],
      "execution_count": null,
      "outputs": [
        {
          "output_type": "execute_result",
          "data": {
            "text/plain": [
              "array([[ 7.5716085],\n",
              "       [12.155265 ],\n",
              "       [ 6.827548 ],\n",
              "       ...,\n",
              "       [11.563474 ],\n",
              "       [10.797277 ],\n",
              "       [11.747369 ]], dtype=float32)"
            ]
          },
          "metadata": {
            "tags": []
          },
          "execution_count": 70
        }
      ]
    },
    {
      "cell_type": "code",
      "metadata": {
        "id": "aFEDM96FcZzp",
        "colab_type": "code",
        "colab": {}
      },
      "source": [
        "sub[\"depth\"]=np.round(pred_nn)"
      ],
      "execution_count": null,
      "outputs": []
    },
    {
      "cell_type": "code",
      "metadata": {
        "id": "BzjZWN9ncgLK",
        "colab_type": "code",
        "colab": {}
      },
      "source": [
        "sub.to_csv(\"submission.csv\",index=False)"
      ],
      "execution_count": null,
      "outputs": []
    },
    {
      "cell_type": "markdown",
      "metadata": {
        "id": "X0HbWavcgY3U",
        "colab_type": "text"
      },
      "source": [
        "# SCALING"
      ]
    },
    {
      "cell_type": "code",
      "metadata": {
        "id": "PwNafYYfcqn_",
        "colab_type": "code",
        "colab": {}
      },
      "source": [
        " from sklearn.preprocessing import StandardScaler"
      ],
      "execution_count": null,
      "outputs": []
    },
    {
      "cell_type": "code",
      "metadata": {
        "id": "F81dRqcNgZ50",
        "colab_type": "code",
        "colab": {}
      },
      "source": [
        "scaler=StandardScaler()\n",
        "train_scale=scaler.fit_transform(train)"
      ],
      "execution_count": null,
      "outputs": []
    },
    {
      "cell_type": "code",
      "metadata": {
        "id": "HApC_jfPkD1n",
        "colab_type": "code",
        "colab": {}
      },
      "source": [
        "test_scaler=scaler.transform(test)"
      ],
      "execution_count": null,
      "outputs": []
    },
    {
      "cell_type": "code",
      "metadata": {
        "id": "_2k6tN_Kkmrg",
        "colab_type": "code",
        "colab": {}
      },
      "source": [
        "y=np.array(y)"
      ],
      "execution_count": null,
      "outputs": []
    },
    {
      "cell_type": "code",
      "metadata": {
        "id": "7gvDLNnkkMFs",
        "colab_type": "code",
        "colab": {}
      },
      "source": [
        "scalery=StandardScaler()\n",
        "y_scale=scalery.fit_transform(y.reshape(-1,1))"
      ],
      "execution_count": null,
      "outputs": []
    },
    {
      "cell_type": "code",
      "metadata": {
        "id": "gS2zm6J6lCC-",
        "colab_type": "code",
        "colab": {}
      },
      "source": [
        "from sklearn.model_selection import train_test_split\n",
        "X_train, X_test, y_train, y_test = train_test_split(train_scale, y_scale,test_size=.33,random_state =123)"
      ],
      "execution_count": null,
      "outputs": []
    },
    {
      "cell_type": "code",
      "metadata": {
        "id": "mwoOpIStlOTP",
        "colab_type": "code",
        "colab": {
          "base_uri": "https://localhost:8080/",
          "height": 138
        },
        "outputId": "6a073ba5-4e09-4e22-b141-51d79614f996"
      },
      "source": [
        "from lazypredict.Supervised import LazyRegressor\n",
        "reg = LazyRegressor(verbose=0,ignore_warnings=False, custom_metric=None )\n",
        "models,predictions = reg.fit(X_train, X_test, y_train, y_test)"
      ],
      "execution_count": null,
      "outputs": [
        {
          "output_type": "stream",
          "text": [
            "/usr/local/lib/python3.6/dist-packages/sklearn/utils/deprecation.py:144: FutureWarning: The sklearn.utils.testing module is  deprecated in version 0.22 and will be removed in version 0.24. The corresponding classes / functions should instead be imported from sklearn.utils. Anything that cannot be imported from sklearn.utils is now part of the private API.\n",
            "  warnings.warn(message, FutureWarning)\n",
            " 90%|████████▉ | 35/39 [03:43<00:15,  3.90s/it]"
          ],
          "name": "stderr"
        },
        {
          "output_type": "stream",
          "text": [
            "StackingRegressor model failed to execute\n",
            "__init__() missing 1 required positional argument: 'estimators'\n",
            "[07:34:49] WARNING: /workspace/src/objective/regression_obj.cu:152: reg:linear is now deprecated in favor of reg:squarederror.\n"
          ],
          "name": "stdout"
        },
        {
          "output_type": "stream",
          "text": [
            "100%|██████████| 39/39 [03:44<00:00,  5.76s/it]\n"
          ],
          "name": "stderr"
        }
      ]
    },
    {
      "cell_type": "code",
      "metadata": {
        "id": "1xrUjsJWlS3v",
        "colab_type": "code",
        "colab": {
          "base_uri": "https://localhost:8080/",
          "height": 1000
        },
        "outputId": "b048d7ee-5e6b-4a44-8ae0-c09081953b55"
      },
      "source": [
        "models"
      ],
      "execution_count": null,
      "outputs": [
        {
          "output_type": "execute_result",
          "data": {
            "text/html": [
              "<div>\n",
              "<style scoped>\n",
              "    .dataframe tbody tr th:only-of-type {\n",
              "        vertical-align: middle;\n",
              "    }\n",
              "\n",
              "    .dataframe tbody tr th {\n",
              "        vertical-align: top;\n",
              "    }\n",
              "\n",
              "    .dataframe thead th {\n",
              "        text-align: right;\n",
              "    }\n",
              "</style>\n",
              "<table border=\"1\" class=\"dataframe\">\n",
              "  <thead>\n",
              "    <tr style=\"text-align: right;\">\n",
              "      <th></th>\n",
              "      <th>R-Squared</th>\n",
              "      <th>RMSE</th>\n",
              "      <th>Time Taken</th>\n",
              "    </tr>\n",
              "    <tr>\n",
              "      <th>Model</th>\n",
              "      <th></th>\n",
              "      <th></th>\n",
              "      <th></th>\n",
              "    </tr>\n",
              "  </thead>\n",
              "  <tbody>\n",
              "    <tr>\n",
              "      <th>RandomForestRegressor</th>\n",
              "      <td>0.91</td>\n",
              "      <td>0.31</td>\n",
              "      <td>2.32</td>\n",
              "    </tr>\n",
              "    <tr>\n",
              "      <th>MLPRegressor</th>\n",
              "      <td>0.89</td>\n",
              "      <td>0.33</td>\n",
              "      <td>17.70</td>\n",
              "    </tr>\n",
              "    <tr>\n",
              "      <th>BaggingRegressor</th>\n",
              "      <td>0.87</td>\n",
              "      <td>0.37</td>\n",
              "      <td>0.26</td>\n",
              "    </tr>\n",
              "    <tr>\n",
              "      <th>ExtraTreesRegressor</th>\n",
              "      <td>0.86</td>\n",
              "      <td>0.37</td>\n",
              "      <td>2.21</td>\n",
              "    </tr>\n",
              "    <tr>\n",
              "      <th>DecisionTreeRegressor</th>\n",
              "      <td>0.74</td>\n",
              "      <td>0.50</td>\n",
              "      <td>0.07</td>\n",
              "    </tr>\n",
              "    <tr>\n",
              "      <th>HistGradientBoostingRegressor</th>\n",
              "      <td>0.70</td>\n",
              "      <td>0.55</td>\n",
              "      <td>0.50</td>\n",
              "    </tr>\n",
              "    <tr>\n",
              "      <th>LGBMRegressor</th>\n",
              "      <td>0.70</td>\n",
              "      <td>0.55</td>\n",
              "      <td>0.21</td>\n",
              "    </tr>\n",
              "    <tr>\n",
              "      <th>KNeighborsRegressor</th>\n",
              "      <td>0.69</td>\n",
              "      <td>0.56</td>\n",
              "      <td>0.28</td>\n",
              "    </tr>\n",
              "    <tr>\n",
              "      <th>GradientBoostingRegressor</th>\n",
              "      <td>0.44</td>\n",
              "      <td>0.75</td>\n",
              "      <td>0.87</td>\n",
              "    </tr>\n",
              "    <tr>\n",
              "      <th>XGBRegressor</th>\n",
              "      <td>0.43</td>\n",
              "      <td>0.76</td>\n",
              "      <td>0.63</td>\n",
              "    </tr>\n",
              "    <tr>\n",
              "      <th>ExtraTreeRegressor</th>\n",
              "      <td>0.40</td>\n",
              "      <td>0.77</td>\n",
              "      <td>0.05</td>\n",
              "    </tr>\n",
              "    <tr>\n",
              "      <th>NuSVR</th>\n",
              "      <td>0.37</td>\n",
              "      <td>0.80</td>\n",
              "      <td>20.42</td>\n",
              "    </tr>\n",
              "    <tr>\n",
              "      <th>SVR</th>\n",
              "      <td>0.34</td>\n",
              "      <td>0.81</td>\n",
              "      <td>13.93</td>\n",
              "    </tr>\n",
              "    <tr>\n",
              "      <th>AdaBoostRegressor</th>\n",
              "      <td>0.21</td>\n",
              "      <td>0.89</td>\n",
              "      <td>0.13</td>\n",
              "    </tr>\n",
              "    <tr>\n",
              "      <th>LassoLarsIC</th>\n",
              "      <td>0.12</td>\n",
              "      <td>0.94</td>\n",
              "      <td>0.03</td>\n",
              "    </tr>\n",
              "    <tr>\n",
              "      <th>LassoCV</th>\n",
              "      <td>0.12</td>\n",
              "      <td>0.94</td>\n",
              "      <td>0.23</td>\n",
              "    </tr>\n",
              "    <tr>\n",
              "      <th>BayesianRidge</th>\n",
              "      <td>0.12</td>\n",
              "      <td>0.94</td>\n",
              "      <td>0.07</td>\n",
              "    </tr>\n",
              "    <tr>\n",
              "      <th>LarsCV</th>\n",
              "      <td>0.12</td>\n",
              "      <td>0.94</td>\n",
              "      <td>0.06</td>\n",
              "    </tr>\n",
              "    <tr>\n",
              "      <th>LassoLarsCV</th>\n",
              "      <td>0.12</td>\n",
              "      <td>0.94</td>\n",
              "      <td>0.06</td>\n",
              "    </tr>\n",
              "    <tr>\n",
              "      <th>ElasticNetCV</th>\n",
              "      <td>0.12</td>\n",
              "      <td>0.94</td>\n",
              "      <td>0.21</td>\n",
              "    </tr>\n",
              "    <tr>\n",
              "      <th>OrthogonalMatchingPursuitCV</th>\n",
              "      <td>0.12</td>\n",
              "      <td>0.94</td>\n",
              "      <td>0.06</td>\n",
              "    </tr>\n",
              "    <tr>\n",
              "      <th>RidgeCV</th>\n",
              "      <td>0.12</td>\n",
              "      <td>0.94</td>\n",
              "      <td>0.03</td>\n",
              "    </tr>\n",
              "    <tr>\n",
              "      <th>Ridge</th>\n",
              "      <td>0.12</td>\n",
              "      <td>0.94</td>\n",
              "      <td>0.02</td>\n",
              "    </tr>\n",
              "    <tr>\n",
              "      <th>TransformedTargetRegressor</th>\n",
              "      <td>0.12</td>\n",
              "      <td>0.94</td>\n",
              "      <td>0.03</td>\n",
              "    </tr>\n",
              "    <tr>\n",
              "      <th>LinearRegression</th>\n",
              "      <td>0.12</td>\n",
              "      <td>0.94</td>\n",
              "      <td>0.03</td>\n",
              "    </tr>\n",
              "    <tr>\n",
              "      <th>Lars</th>\n",
              "      <td>0.12</td>\n",
              "      <td>0.94</td>\n",
              "      <td>0.03</td>\n",
              "    </tr>\n",
              "    <tr>\n",
              "      <th>KernelRidge</th>\n",
              "      <td>0.12</td>\n",
              "      <td>0.94</td>\n",
              "      <td>50.15</td>\n",
              "    </tr>\n",
              "    <tr>\n",
              "      <th>SGDRegressor</th>\n",
              "      <td>0.12</td>\n",
              "      <td>0.94</td>\n",
              "      <td>0.04</td>\n",
              "    </tr>\n",
              "    <tr>\n",
              "      <th>OrthogonalMatchingPursuit</th>\n",
              "      <td>0.06</td>\n",
              "      <td>0.97</td>\n",
              "      <td>0.02</td>\n",
              "    </tr>\n",
              "    <tr>\n",
              "      <th>HuberRegressor</th>\n",
              "      <td>0.05</td>\n",
              "      <td>0.97</td>\n",
              "      <td>0.09</td>\n",
              "    </tr>\n",
              "    <tr>\n",
              "      <th>LinearSVR</th>\n",
              "      <td>0.03</td>\n",
              "      <td>0.99</td>\n",
              "      <td>0.18</td>\n",
              "    </tr>\n",
              "    <tr>\n",
              "      <th>ElasticNet</th>\n",
              "      <td>-0.00</td>\n",
              "      <td>1.00</td>\n",
              "      <td>0.02</td>\n",
              "    </tr>\n",
              "    <tr>\n",
              "      <th>DummyRegressor</th>\n",
              "      <td>-0.00</td>\n",
              "      <td>1.00</td>\n",
              "      <td>0.02</td>\n",
              "    </tr>\n",
              "    <tr>\n",
              "      <th>Lasso</th>\n",
              "      <td>-0.00</td>\n",
              "      <td>1.00</td>\n",
              "      <td>0.02</td>\n",
              "    </tr>\n",
              "    <tr>\n",
              "      <th>LassoLars</th>\n",
              "      <td>-0.00</td>\n",
              "      <td>1.00</td>\n",
              "      <td>0.02</td>\n",
              "    </tr>\n",
              "    <tr>\n",
              "      <th>RANSACRegressor</th>\n",
              "      <td>-0.14</td>\n",
              "      <td>1.07</td>\n",
              "      <td>0.14</td>\n",
              "    </tr>\n",
              "    <tr>\n",
              "      <th>PassiveAggressiveRegressor</th>\n",
              "      <td>-0.32</td>\n",
              "      <td>1.15</td>\n",
              "      <td>0.03</td>\n",
              "    </tr>\n",
              "    <tr>\n",
              "      <th>GaussianProcessRegressor</th>\n",
              "      <td>-18.62</td>\n",
              "      <td>4.42</td>\n",
              "      <td>113.44</td>\n",
              "    </tr>\n",
              "  </tbody>\n",
              "</table>\n",
              "</div>"
            ],
            "text/plain": [
              "                               R-Squared  RMSE  Time Taken\n",
              "Model                                                     \n",
              "RandomForestRegressor               0.91  0.31        2.32\n",
              "MLPRegressor                        0.89  0.33       17.70\n",
              "BaggingRegressor                    0.87  0.37        0.26\n",
              "ExtraTreesRegressor                 0.86  0.37        2.21\n",
              "DecisionTreeRegressor               0.74  0.50        0.07\n",
              "HistGradientBoostingRegressor       0.70  0.55        0.50\n",
              "LGBMRegressor                       0.70  0.55        0.21\n",
              "KNeighborsRegressor                 0.69  0.56        0.28\n",
              "GradientBoostingRegressor           0.44  0.75        0.87\n",
              "XGBRegressor                        0.43  0.76        0.63\n",
              "ExtraTreeRegressor                  0.40  0.77        0.05\n",
              "NuSVR                               0.37  0.80       20.42\n",
              "SVR                                 0.34  0.81       13.93\n",
              "AdaBoostRegressor                   0.21  0.89        0.13\n",
              "LassoLarsIC                         0.12  0.94        0.03\n",
              "LassoCV                             0.12  0.94        0.23\n",
              "BayesianRidge                       0.12  0.94        0.07\n",
              "LarsCV                              0.12  0.94        0.06\n",
              "LassoLarsCV                         0.12  0.94        0.06\n",
              "ElasticNetCV                        0.12  0.94        0.21\n",
              "OrthogonalMatchingPursuitCV         0.12  0.94        0.06\n",
              "RidgeCV                             0.12  0.94        0.03\n",
              "Ridge                               0.12  0.94        0.02\n",
              "TransformedTargetRegressor          0.12  0.94        0.03\n",
              "LinearRegression                    0.12  0.94        0.03\n",
              "Lars                                0.12  0.94        0.03\n",
              "KernelRidge                         0.12  0.94       50.15\n",
              "SGDRegressor                        0.12  0.94        0.04\n",
              "OrthogonalMatchingPursuit           0.06  0.97        0.02\n",
              "HuberRegressor                      0.05  0.97        0.09\n",
              "LinearSVR                           0.03  0.99        0.18\n",
              "ElasticNet                         -0.00  1.00        0.02\n",
              "DummyRegressor                     -0.00  1.00        0.02\n",
              "Lasso                              -0.00  1.00        0.02\n",
              "LassoLars                          -0.00  1.00        0.02\n",
              "RANSACRegressor                    -0.14  1.07        0.14\n",
              "PassiveAggressiveRegressor         -0.32  1.15        0.03\n",
              "GaussianProcessRegressor          -18.62  4.42      113.44"
            ]
          },
          "metadata": {
            "tags": []
          },
          "execution_count": 93
        }
      ]
    },
    {
      "cell_type": "code",
      "metadata": {
        "id": "wxMy-40imLkv",
        "colab_type": "code",
        "colab": {}
      },
      "source": [
        "from sklearn.ensemble import RandomForestRegressor\n",
        "rnd=RandomForestRegressor()\n",
        "rnd.fit(train_scale,y_scale)\n",
        "pred=rnd.predict(test_scaler)\n",
        "p=scalery.inverse_transform(pred)"
      ],
      "execution_count": null,
      "outputs": []
    },
    {
      "cell_type": "code",
      "metadata": {
        "id": "nrYvVdE1mqY_",
        "colab_type": "code",
        "colab": {}
      },
      "source": [
        "sub[\"depth\"]=np.round(p)"
      ],
      "execution_count": null,
      "outputs": []
    },
    {
      "cell_type": "code",
      "metadata": {
        "id": "VzblO77BmscM",
        "colab_type": "code",
        "colab": {}
      },
      "source": [
        "sub.to_csv(\"submission.csv\",index=False)"
      ],
      "execution_count": null,
      "outputs": []
    },
    {
      "cell_type": "code",
      "metadata": {
        "id": "q4hX72sdnzPe",
        "colab_type": "code",
        "colab": {}
      },
      "source": [
        "from sklearn.metrics import mean_squared_error,make_scorer\n",
        "from sklearn.model_selection import cross_val_score\n",
        "def f1_weighted(y_true, y_pred):\n",
        "    score = mean_squared_error(y_true, y_pred)\n",
        "    return (np.sqrt(score))\n",
        "\n",
        "scorer = make_scorer(f1_weighted)"
      ],
      "execution_count": null,
      "outputs": []
    },
    {
      "cell_type": "code",
      "metadata": {
        "id": "ZIykrlBTn14t",
        "colab_type": "code",
        "colab": {
          "base_uri": "https://localhost:8080/",
          "height": 34
        },
        "outputId": "bf15265b-a9ce-483f-e43e-0d2b4a10ae9f"
      },
      "source": [
        "rnd=RandomForestRegressor(n_estimators=400)\n",
        "scores = cross_val_score(rnd, train,y, cv = 5, scoring = scorer)\n",
        "scores.mean()"
      ],
      "execution_count": null,
      "outputs": [
        {
          "output_type": "execute_result",
          "data": {
            "text/plain": [
              "1.3139227478976332"
            ]
          },
          "metadata": {
            "tags": []
          },
          "execution_count": 122
        }
      ]
    },
    {
      "cell_type": "code",
      "metadata": {
        "id": "N4HCrIseofRP",
        "colab_type": "code",
        "colab": {}
      },
      "source": [
        "rnd=RandomForestRegressor(n_estimators=400)\n",
        "rnd.fit(train,y)\n",
        "pred=rnd.predict(test)\n",
        "sub[\"depth\"]=(pred).astype(\"int64\")"
      ],
      "execution_count": null,
      "outputs": []
    },
    {
      "cell_type": "code",
      "metadata": {
        "id": "N3PlOCcoxwOy",
        "colab_type": "code",
        "colab": {}
      },
      "source": [
        "sub.to_csv(\"submission.csv\",index=False)"
      ],
      "execution_count": null,
      "outputs": []
    },
    {
      "cell_type": "code",
      "metadata": {
        "id": "aNqd6_SLxwrp",
        "colab_type": "code",
        "colab": {}
      },
      "source": [
        ""
      ],
      "execution_count": null,
      "outputs": []
    }
  ]
}